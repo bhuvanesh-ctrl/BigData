{
  "cells": [
    {
      "cell_type": "markdown",
      "metadata": {
        "id": "view-in-github",
        "colab_type": "text"
      },
      "source": [
        "<a href=\"https://colab.research.google.com/github/bhuvanesh-ctrl/BigData/blob/main/016785886_B6.ipynb\" target=\"_parent\"><img src=\"https://colab.research.google.com/assets/colab-badge.svg\" alt=\"Open In Colab\"/></a>"
      ]
    },
    {
      "cell_type": "code",
      "execution_count": 1,
      "metadata": {
        "id": "R4I5xcJCiNtK",
        "colab": {
          "base_uri": "https://localhost:8080/",
          "height": 0
        },
        "outputId": "f331862a-5b38-4f7d-fb07-b69aa05a3cd9"
      },
      "outputs": [
        {
          "output_type": "stream",
          "name": "stdout",
          "text": [
            "Collecting pyspark\n",
            "  Downloading pyspark-3.5.1.tar.gz (317.0 MB)\n",
            "\u001b[2K     \u001b[90m━━━━━━━━━━━━━━━━━━━━━━━━━━━━━━━━━━━━━━━━\u001b[0m \u001b[32m317.0/317.0 MB\u001b[0m \u001b[31m4.6 MB/s\u001b[0m eta \u001b[36m0:00:00\u001b[0m\n",
            "\u001b[?25h  Preparing metadata (setup.py) ... \u001b[?25l\u001b[?25hdone\n",
            "Requirement already satisfied: py4j==0.10.9.7 in /usr/local/lib/python3.10/dist-packages (from pyspark) (0.10.9.7)\n",
            "Building wheels for collected packages: pyspark\n",
            "  Building wheel for pyspark (setup.py) ... \u001b[?25l\u001b[?25hdone\n",
            "  Created wheel for pyspark: filename=pyspark-3.5.1-py2.py3-none-any.whl size=317488493 sha256=f41fe76cfa899b0e07832f7ad86807ab94e0e4eeb8d2a14f4d5ae9e987462de2\n",
            "  Stored in directory: /root/.cache/pip/wheels/80/1d/60/2c256ed38dddce2fdd93be545214a63e02fbd8d74fb0b7f3a6\n",
            "Successfully built pyspark\n",
            "Installing collected packages: pyspark\n",
            "Successfully installed pyspark-3.5.1\n"
          ]
        }
      ],
      "source": [
        "pip install pyspark"
      ]
    },
    {
      "cell_type": "code",
      "execution_count": 2,
      "metadata": {
        "id": "5OqIvBa1MVUz"
      },
      "outputs": [],
      "source": [
        "from pyspark.sql import SparkSession\n",
        "\n",
        "spark = SparkSession.builder \\\n",
        "    .appName(\"Poker Hand Classification\") \\\n",
        "    .getOrCreate()"
      ]
    },
    {
      "cell_type": "code",
      "execution_count": 3,
      "metadata": {
        "id": "CjBGzXaxqF0o"
      },
      "outputs": [],
      "source": [
        "from pyspark.sql.types import StructType, StructField, IntegerType"
      ]
    },
    {
      "cell_type": "code",
      "source": [
        "from google.colab import drive\n",
        "drive.mount('/content/drive')"
      ],
      "metadata": {
        "colab": {
          "base_uri": "https://localhost:8080/",
          "height": 0
        },
        "id": "Er35VVG7aE_r",
        "outputId": "2476c09e-af26-4515-8e7a-6b386bce4733"
      },
      "execution_count": 4,
      "outputs": [
        {
          "output_type": "stream",
          "name": "stdout",
          "text": [
            "Mounted at /content/drive\n"
          ]
        }
      ]
    },
    {
      "cell_type": "code",
      "execution_count": 5,
      "metadata": {
        "colab": {
          "base_uri": "https://localhost:8080/",
          "height": 0
        },
        "id": "bbcajDBQqBj_",
        "outputId": "e715c562-be7c-4551-eeb7-524d90e143f5"
      },
      "outputs": [
        {
          "output_type": "stream",
          "name": "stdout",
          "text": [
            "Schema:\n",
            "root\n",
            " |-- Card_rank1: integer (nullable = true)\n",
            " |-- Card_suit1: integer (nullable = true)\n",
            " |-- Card_rank2: integer (nullable = true)\n",
            " |-- Card_suit2: integer (nullable = true)\n",
            " |-- Card_rank3: integer (nullable = true)\n",
            " |-- Card_suit3: integer (nullable = true)\n",
            " |-- Card_rank4: integer (nullable = true)\n",
            " |-- Card_suit4: integer (nullable = true)\n",
            " |-- Card_rank5: integer (nullable = true)\n",
            " |-- Card_suit5: integer (nullable = true)\n",
            " |-- Poker_hand: integer (nullable = true)\n",
            "\n"
          ]
        }
      ],
      "source": [
        "schema = StructType([\n",
        "    StructField(\"Card_rank1\", IntegerType(), True),\n",
        "    StructField(\"Card_suit1\", IntegerType(), True),\n",
        "    StructField(\"Card_rank2\", IntegerType(), True),\n",
        "    StructField(\"Card_suit2\", IntegerType(), True),\n",
        "    StructField(\"Card_rank3\", IntegerType(), True),\n",
        "    StructField(\"Card_suit3\", IntegerType(), True),\n",
        "    StructField(\"Card_rank4\", IntegerType(), True),\n",
        "    StructField(\"Card_suit4\", IntegerType(), True),\n",
        "    StructField(\"Card_rank5\", IntegerType(), True),\n",
        "    StructField(\"Card_suit5\", IntegerType(), True),\n",
        "    StructField(\"Poker_hand\", IntegerType(), True)\n",
        "])\n",
        "train_df = spark.read.format(\"csv\") \\\n",
        "    .option(\"header\", \"false\") \\\n",
        "    .schema(schema) \\\n",
        "    .load(\"/content/drive/MyDrive/Big data/poker-hand-training-true.data\")\n",
        "\n",
        "# Show the schema of the DataFrame\n",
        "print(\"Schema:\")\n",
        "train_df.printSchema()"
      ]
    },
    {
      "cell_type": "code",
      "execution_count": 6,
      "metadata": {
        "colab": {
          "base_uri": "https://localhost:8080/",
          "height": 0
        },
        "id": "B5zvNpTynk6n",
        "outputId": "708d37eb-2485-4285-9092-e676e99270f7"
      },
      "outputs": [
        {
          "output_type": "stream",
          "name": "stdout",
          "text": [
            "+-------+------------------+------------------+------------------+-----------------+------------------+------------------+-----------------+-----------------+------------------+------------------+------------------+\n",
            "|summary|        Card_rank1|        Card_suit1|        Card_rank2|       Card_suit2|        Card_rank3|        Card_suit3|       Card_rank4|       Card_suit4|        Card_rank5|        Card_suit5|        Poker_hand|\n",
            "+-------+------------------+------------------+------------------+-----------------+------------------+------------------+-----------------+-----------------+------------------+------------------+------------------+\n",
            "|  count|             25010|             25010|             25010|            25010|             25010|             25010|            25010|            25010|             25010|             25010|             25008|\n",
            "|   mean|2.5087564974010395| 6.995081967213115|2.4980407836865255|7.013874450219912| 2.510235905637745| 7.014194322271091|2.496081567373051|6.942263094762096|2.4975209916033587| 6.962415033986406|0.6211212412028151|\n",
            "| stddev| 1.116483112567376|3.7498898118188055|1.1230503607476516|3.766974779182304|1.1231478345904726|3.7449365285364666|1.116510575513112| 3.74722432046903|1.1190902561360616|3.7418746932304936|0.7883850050320249|\n",
            "|    min|                 1|                 1|                 1|                1|                 1|                 1|                1|                1|                 1|                 1|                 0|\n",
            "|    max|                 4|                13|                11|               13|                 4|                13|                8|               13|                 7|                13|                 9|\n",
            "+-------+------------------+------------------+------------------+-----------------+------------------+------------------+-----------------+-----------------+------------------+------------------+------------------+\n",
            "\n"
          ]
        }
      ],
      "source": [
        "train_df.describe().show()"
      ]
    },
    {
      "cell_type": "code",
      "execution_count": 7,
      "metadata": {
        "colab": {
          "base_uri": "https://localhost:8080/",
          "height": 0
        },
        "id": "Ux9lNk2iigsy",
        "outputId": "7dd7bc5d-8d1a-4562-cdc0-fc177dea8fb3"
      },
      "outputs": [
        {
          "output_type": "stream",
          "name": "stdout",
          "text": [
            "Schema:\n",
            "root\n",
            " |-- Card_rank1: integer (nullable = true)\n",
            " |-- Card_suit1: integer (nullable = true)\n",
            " |-- Card_rank2: integer (nullable = true)\n",
            " |-- Card_suit2: integer (nullable = true)\n",
            " |-- Card_rank3: integer (nullable = true)\n",
            " |-- Card_suit3: integer (nullable = true)\n",
            " |-- Card_rank4: integer (nullable = true)\n",
            " |-- Card_suit4: integer (nullable = true)\n",
            " |-- Card_rank5: integer (nullable = true)\n",
            " |-- Card_suit5: integer (nullable = true)\n",
            " |-- Poker_hand: integer (nullable = true)\n",
            "\n"
          ]
        }
      ],
      "source": [
        "schema = StructType([\n",
        "    StructField(\"Card_rank1\", IntegerType(), True),\n",
        "    StructField(\"Card_suit1\", IntegerType(), True),\n",
        "    StructField(\"Card_rank2\", IntegerType(), True),\n",
        "    StructField(\"Card_suit2\", IntegerType(), True),\n",
        "    StructField(\"Card_rank3\", IntegerType(), True),\n",
        "    StructField(\"Card_suit3\", IntegerType(), True),\n",
        "    StructField(\"Card_rank4\", IntegerType(), True),\n",
        "    StructField(\"Card_suit4\", IntegerType(), True),\n",
        "    StructField(\"Card_rank5\", IntegerType(), True),\n",
        "    StructField(\"Card_suit5\", IntegerType(), True),\n",
        "    StructField(\"Poker_hand\", IntegerType(), True)\n",
        "])\n",
        "test_df = spark.read.format(\"csv\") \\\n",
        "    .option(\"header\", \"false\") \\\n",
        "    .schema(schema) \\\n",
        "    .load(\"/content/drive/MyDrive/Big data/poker-hand-testing.data\")\n",
        "\n",
        "# Show the schema of the DataFrame\n",
        "print(\"Schema:\")\n",
        "test_df.printSchema()"
      ]
    },
    {
      "cell_type": "code",
      "execution_count": 8,
      "metadata": {
        "colab": {
          "base_uri": "https://localhost:8080/",
          "height": 0
        },
        "id": "WJeUD7A7qc4j",
        "outputId": "6242ec9f-3a77-45ee-c108-e79293cc1ad3"
      },
      "outputs": [
        {
          "output_type": "stream",
          "name": "stdout",
          "text": [
            "+-------+----------------+------------------+------------------+------------------+------------------+-----------------+------------------+------------------+------------------+-----------------+------------------+\n",
            "|summary|      Card_rank1|        Card_suit1|        Card_rank2|        Card_suit2|        Card_rank3|       Card_suit3|        Card_rank4|        Card_suit4|        Card_rank5|       Card_suit5|        Poker_hand|\n",
            "+-------+----------------+------------------+------------------+------------------+------------------+-----------------+------------------+------------------+------------------+-----------------+------------------+\n",
            "|  count|         1000000|           1000000|           1000000|           1000000|           1000000|          1000000|           1000000|           1000000|           1000000|          1000000|           1000000|\n",
            "|   mean|        2.500493|          6.997927|          2.499894|          7.006097|          2.500871|         6.998873|          2.500393|          7.002298|          2.499451|         6.989481|          0.616902|\n",
            "| stddev|1.11776786783126|3.7433742419803284|1.1185683885928626|3.7434809790141372|1.1182247054083017|3.741890128212345|1.1172453149546224|3.7412699336317177|1.1189481447520144|3.739894161262771|0.7733773467774433|\n",
            "|    min|               1|                 1|                 1|                 1|                 1|                1|                 1|                 1|                 1|                1|                 0|\n",
            "|    max|               4|                13|                 4|                13|                 4|               13|                 4|                13|                 4|               13|                 9|\n",
            "+-------+----------------+------------------+------------------+------------------+------------------+-----------------+------------------+------------------+------------------+-----------------+------------------+\n",
            "\n"
          ]
        }
      ],
      "source": [
        "test_df.describe().show()"
      ]
    },
    {
      "cell_type": "markdown",
      "metadata": {
        "id": "uQvr38ntkH4Z"
      },
      "source": [
        "Performing Necessary transformations from B5 assignment."
      ]
    },
    {
      "cell_type": "code",
      "execution_count": 9,
      "metadata": {
        "id": "kEDp8qTOj2y9"
      },
      "outputs": [],
      "source": [
        "# Drop duplicates\n",
        "train_df = train_df.dropDuplicates()\n",
        "test_df = test_df.dropDuplicates()\n",
        "\n",
        "# Drop tuples with missing fields\n",
        "train_df = train_df.dropna()\n",
        "test_df = test_df.dropna()"
      ]
    },
    {
      "cell_type": "code",
      "execution_count": 10,
      "metadata": {
        "colab": {
          "base_uri": "https://localhost:8080/",
          "height": 0
        },
        "id": "ydt8GxMSkTN4",
        "outputId": "a3c05927-84eb-4ed5-a937-d9afbf9d719f"
      },
      "outputs": [
        {
          "output_type": "stream",
          "name": "stdout",
          "text": [
            "+-------+------------------+------------------+------------------+------------------+-----------------+------------------+------------------+-----------------+------------------+------------------+------------------+\n",
            "|summary|        Card_rank1|        Card_suit1|        Card_rank2|        Card_suit2|       Card_rank3|        Card_suit3|        Card_rank4|       Card_suit4|        Card_rank5|        Card_suit5|        Poker_hand|\n",
            "+-------+------------------+------------------+------------------+------------------+-----------------+------------------+------------------+-----------------+------------------+------------------+------------------+\n",
            "|  count|             25006|             25006|             25006|             25006|            25006|             25006|             25006|            25006|             25006|             25006|             25006|\n",
            "|   mean| 2.508677917299848| 6.995001199712069| 2.497760537471007|7.0143565544269375|2.510157562185076|7.0141566024154205|2.4960009597696553|6.942773734303767|2.4973606334479723| 6.963248820283132|0.6210909381748381|\n",
            "| stddev|1.1164476631714146|3.7496457215837133|1.1218035901818768|3.7670300950126565|1.123184975981317|3.7451561120531642|1.1159726362479054|3.747227778684707|1.1188041327841043|3.7415784295942167|0.7884092514289233|\n",
            "|    min|                 1|                 1|                 1|                 1|                1|                 1|                 1|                1|                 1|                 1|                 0|\n",
            "|    max|                 4|                13|                 4|                13|                4|                13|                 4|               13|                 4|                13|                 9|\n",
            "+-------+------------------+------------------+------------------+------------------+-----------------+------------------+------------------+-----------------+------------------+------------------+------------------+\n",
            "\n"
          ]
        }
      ],
      "source": [
        "train_df.describe().show()"
      ]
    },
    {
      "cell_type": "code",
      "execution_count": 11,
      "metadata": {
        "colab": {
          "base_uri": "https://localhost:8080/",
          "height": 0
        },
        "id": "_hd8ehzTl3br",
        "outputId": "c0513839-ffff-4c7b-b78e-e594190df100"
      },
      "outputs": [
        {
          "output_type": "stream",
          "name": "stdout",
          "text": [
            "+-------+-----------------+-----------------+------------------+------------------+------------------+------------------+-----------------+-----------------+------------------+-----------------+------------------+\n",
            "|summary|       Card_rank1|       Card_suit1|        Card_rank2|        Card_suit2|        Card_rank3|        Card_suit3|       Card_rank4|       Card_suit4|        Card_rank5|       Card_suit5|        Poker_hand|\n",
            "+-------+-----------------+-----------------+------------------+------------------+------------------+------------------+-----------------+-----------------+------------------+-----------------+------------------+\n",
            "|  count|           997872|           997872|            997872|            997872|            997872|            997872|           997872|           997872|            997872|           997872|            997872|\n",
            "|   mean|2.500514093992015|6.998013773309602| 2.499900788878734| 7.006096974361441| 2.500835778536726| 6.998898656340693|2.500432921256434|7.002382069042923|  2.49941174820017|6.989308247951641|0.6169057754902433|\n",
            "| stddev|1.117767290979125|3.743472584379404|1.1185498184693323|3.7434129992491982|1.1182108006794331|3.7418408186516077|  1.1172516905698|3.741203564091058|1.1189679856584687|3.739869577025114| 0.773394829357094|\n",
            "|    min|                1|                1|                 1|                 1|                 1|                 1|                1|                1|                 1|                1|                 0|\n",
            "|    max|                4|               13|                 4|                13|                 4|                13|                4|               13|                 4|               13|                 9|\n",
            "+-------+-----------------+-----------------+------------------+------------------+------------------+------------------+-----------------+-----------------+------------------+-----------------+------------------+\n",
            "\n"
          ]
        }
      ],
      "source": [
        "test_df.describe().show()"
      ]
    },
    {
      "cell_type": "code",
      "execution_count": 12,
      "metadata": {
        "id": "YOscpo8Xq43r"
      },
      "outputs": [],
      "source": [
        "from pyspark.ml.feature import VectorAssembler\n",
        "from pyspark.ml.classification import RandomForestClassifier\n",
        "from pyspark.ml import Pipeline\n",
        "\n",
        "# VectorAssembler to combine features\n",
        "assembler = VectorAssembler(\n",
        "    inputCols=[\"Card_rank1\", \"Card_suit1\", \"Card_rank2\", \"Card_suit2\",\n",
        "               \"Card_rank3\", \"Card_suit3\", \"Card_rank4\", \"Card_suit4\",\n",
        "               \"Card_rank5\", \"Card_suit5\"],\n",
        "    outputCol=\"features\"\n",
        ")"
      ]
    },
    {
      "cell_type": "code",
      "execution_count": 13,
      "metadata": {
        "id": "lVbE8fwBrKjS"
      },
      "outputs": [],
      "source": [
        "# Random Forest classifier\n",
        "rf = RandomForestClassifier(labelCol=\"Poker_hand\", featuresCol=\"features\")\n",
        "\n",
        "# Pipeline\n",
        "pipeline = Pipeline(stages=[assembler, rf])\n",
        "\n",
        "# Train the model\n",
        "model = pipeline.fit(train_df)"
      ]
    },
    {
      "cell_type": "code",
      "execution_count": 14,
      "metadata": {
        "id": "HLPv8_7ds_K2"
      },
      "outputs": [],
      "source": [
        "test_features_df = test_df.drop(\"Poker_Hand\")"
      ]
    },
    {
      "cell_type": "code",
      "execution_count": 15,
      "metadata": {
        "colab": {
          "base_uri": "https://localhost:8080/",
          "height": 0
        },
        "id": "_rQudR0Ttisx",
        "outputId": "fd369d5d-90cb-4812-eb82-bacff3ae1bbc"
      },
      "outputs": [
        {
          "output_type": "stream",
          "name": "stdout",
          "text": [
            "+-------+-----------------+-----------------+------------------+------------------+------------------+------------------+-----------------+-----------------+------------------+-----------------+\n",
            "|summary|       Card_rank1|       Card_suit1|        Card_rank2|        Card_suit2|        Card_rank3|        Card_suit3|       Card_rank4|       Card_suit4|        Card_rank5|       Card_suit5|\n",
            "+-------+-----------------+-----------------+------------------+------------------+------------------+------------------+-----------------+-----------------+------------------+-----------------+\n",
            "|  count|           997872|           997872|            997872|            997872|            997872|            997872|           997872|           997872|            997872|           997872|\n",
            "|   mean|2.500514093992015|6.998013773309602| 2.499900788878734| 7.006096974361441| 2.500835778536726| 6.998898656340693|2.500432921256434|7.002382069042923|  2.49941174820017|6.989308247951641|\n",
            "| stddev|1.117767290979125|3.743472584379404|1.1185498184693323|3.7434129992491982|1.1182108006794331|3.7418408186516077|  1.1172516905698|3.741203564091058|1.1189679856584687|3.739869577025114|\n",
            "|    min|                1|                1|                 1|                 1|                 1|                 1|                1|                1|                 1|                1|\n",
            "|    max|                4|               13|                 4|                13|                 4|                13|                4|               13|                 4|               13|\n",
            "+-------+-----------------+-----------------+------------------+------------------+------------------+------------------+-----------------+-----------------+------------------+-----------------+\n",
            "\n"
          ]
        }
      ],
      "source": [
        "test_features_df.describe().show()"
      ]
    },
    {
      "cell_type": "code",
      "source": [
        "from pyspark.sql.functions import monotonically_increasing_id\n",
        "\n",
        "# Add a unique identifier column to the test DataFrame\n",
        "test_df_with_id = test_df.withColumn(\"id\", monotonically_increasing_id())\n",
        "\n",
        "# Calculate the total number of records in the test DataFrame\n",
        "total_records = test_df_with_id.count()\n",
        "print(\"Total records:\", total_records)"
      ],
      "metadata": {
        "colab": {
          "base_uri": "https://localhost:8080/",
          "height": 0
        },
        "id": "BjUzZDnAh1jc",
        "outputId": "67aaa3c3-b351-44c2-90f9-6c783704827f"
      },
      "execution_count": 16,
      "outputs": [
        {
          "output_type": "stream",
          "name": "stdout",
          "text": [
            "Total records: 997872\n"
          ]
        }
      ]
    },
    {
      "cell_type": "code",
      "source": [
        "# Initialize variables to store total correct predictions and total predictions\n",
        "total_correct_predictions = 0\n",
        "total_predictions = 0\n",
        "\n",
        "# Iterate through the test DataFrame in batches of 50,000 records\n",
        "batch_size = 50000\n",
        "for i in range(0, total_records, batch_size):\n",
        "    # Get the next batch of records\n",
        "    batch_df = test_df_with_id.filter((test_df_with_id.id >= i) & (test_df_with_id.id < i + batch_size))\n",
        "\n",
        "    # Make predictions on the current batch\n",
        "    predictions = model.transform(batch_df)\n",
        "\n",
        "    # Join predicted labels with the original testing DataFrame\n",
        "    joined_df = predictions.join(batch_df.select(\"id\", \"Poker_Hand\").withColumnRenamed(\"Poker_Hand\", \"target\"), on=\"id\")\n",
        "\n",
        "    # Evaluate the predictions for the current batch\n",
        "    correct_predictions = joined_df.filter(joined_df[\"prediction\"] == joined_df[\"target\"]).count()\n",
        "    batch_predictions = joined_df.count()\n",
        "\n",
        "    # Update total correct predictions and total predictions\n",
        "    total_correct_predictions += correct_predictions\n",
        "    total_predictions += batch_predictions\n",
        "\n",
        "# Calculate the overall accuracy\n",
        "accuracy = total_correct_predictions / total_predictions\n",
        "print(\"Overall Accuracy:\", accuracy)"
      ],
      "metadata": {
        "colab": {
          "base_uri": "https://localhost:8080/",
          "height": 0
        },
        "id": "4Bpyp2fCiAlD",
        "outputId": "2ac36e79-2351-4de5-9a95-6036d0b52e85"
      },
      "execution_count": 17,
      "outputs": [
        {
          "output_type": "stream",
          "name": "stdout",
          "text": [
            "Overall Accuracy: 0.5465335632686438\n"
          ]
        }
      ]
    },
    {
      "cell_type": "markdown",
      "source": [
        "I have employed the concept of batch predictions, where the predictions are made for batches of 50,000 data records, these predictions are then averaged out to find the final overall accuracy of the test data."
      ],
      "metadata": {
        "id": "ufO56cKbi6jI"
      }
    }
  ],
  "metadata": {
    "colab": {
      "provenance": [],
      "include_colab_link": true
    },
    "kernelspec": {
      "display_name": "Python 3",
      "name": "python3"
    },
    "language_info": {
      "codemirror_mode": {
        "name": "ipython",
        "version": 3
      },
      "file_extension": ".py",
      "mimetype": "text/x-python",
      "name": "python",
      "nbconvert_exporter": "python",
      "pygments_lexer": "ipython3",
      "version": "3.11.7"
    }
  },
  "nbformat": 4,
  "nbformat_minor": 0
}